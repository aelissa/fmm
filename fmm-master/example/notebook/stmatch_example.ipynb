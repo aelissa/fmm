{
 "cells": [
  {
   "cell_type": "markdown",
   "metadata": {},
   "source": [
    "## Demo of STMatch Python API"
   ]
  },
  {
   "cell_type": "code",
   "execution_count": 1,
   "metadata": {},
   "outputs": [],
   "source": [
    "from fmm import Network,NetworkGraph,STMATCH,STMATCHConfig"
   ]
  },
  {
   "cell_type": "markdown",
   "metadata": {},
   "source": [
    "### Load data and model"
   ]
  },
  {
   "cell_type": "code",
   "execution_count": 2,
   "metadata": {},
   "outputs": [
    {
     "name": "stdout",
     "output_type": "stream",
     "text": [
      "Nodes 17 edges 30\n"
     ]
    }
   ],
   "source": [
    "network = Network(\"../data/edges.shp\")\n",
    "print \"Nodes {} edges {}\".format(network.get_node_count(),network.get_edge_count())\n",
    "graph = NetworkGraph(network)\n",
    "model = STMATCH(network,graph)"
   ]
  },
  {
   "cell_type": "code",
   "execution_count": 3,
   "metadata": {},
   "outputs": [],
   "source": [
    "wkt = \"LINESTRING(0.200812146892656 2.14088983050848,1.44262005649717 2.14879943502825,3.06408898305084 2.16066384180791,3.06408898305084 2.7103813559322,3.70872175141242 2.97930790960452,4.11606638418078 2.62337570621469)\""
   ]
  },
  {
   "cell_type": "markdown",
   "metadata": {},
   "source": [
    "### Define STMATCH configuration"
   ]
  },
  {
   "cell_type": "code",
   "execution_count": 4,
   "metadata": {},
   "outputs": [],
   "source": [
    "k = 4\n",
    "gps_error = 0.5\n",
    "radius = 0.4\n",
    "vmax = 30\n",
    "factor = 1.5\n",
    "config = STMATCHConfig(k, radius, gps_error, vmax, factor)"
   ]
  },
  {
   "cell_type": "code",
   "execution_count": 5,
   "metadata": {},
   "outputs": [],
   "source": [
    "result = model.match_wkt(wkt,config)"
   ]
  },
  {
   "cell_type": "code",
   "execution_count": 7,
   "metadata": {},
   "outputs": [
    {
     "name": "stdout",
     "output_type": "stream",
     "text": [
      "Matched path:  [8, 11, 13, 18, 20, 24]\n",
      "Matched edge for each point:  [8, 11, 18, 18, 20, 24]\n",
      "Matched edge index  [0, 1, 3, 3, 4, 5]\n",
      "Matched geometry:  LINESTRING(0.200812 2,1 2,2 2,3 2,3 3,4 3,4 2.62338)\n",
      "Matched point  LINESTRING(0.200812 2,1.44262 2,3 2.16066,3 2.71038,3.70872 3,4 2.62338)\n"
     ]
    }
   ],
   "source": [
    "print \"Matched path: \", list(result.cpath)\n",
    "print \"Matched edge for each point: \", list(result.opath)\n",
    "print \"Matched edge index \",list(result.indices)\n",
    "print \"Matched geometry: \",result.mgeom.export_wkt()\n",
    "print \"Matched point \", result.pgeom.export_wkt()"
   ]
  },
  {
   "cell_type": "code",
   "execution_count": null,
   "metadata": {},
   "outputs": [],
   "source": []
  }
 ],
 "metadata": {
  "kernelspec": {
   "display_name": "Python 2",
   "language": "python",
   "name": "python2"
  },
  "language_info": {
   "codemirror_mode": {
    "name": "ipython",
    "version": 2
   },
   "file_extension": ".py",
   "mimetype": "text/x-python",
   "name": "python",
   "nbconvert_exporter": "python",
   "pygments_lexer": "ipython2",
   "version": "2.7.15"
  }
 },
 "nbformat": 4,
 "nbformat_minor": 2
}
